{
 "cells": [
  {
   "cell_type": "code",
   "execution_count": 1,
   "metadata": {},
   "outputs": [],
   "source": [
    "import pandas as pd\n",
    "import numpy as np\n",
    "import matplotlib.pyplot as plt\n",
    "import seaborn as sns\n",
    "from sklearn.metrics.pairwise import cosine_similarity\n",
    "from sklearn.metrics.pairwise import pairwise_distances\n",
    "from math import sqrt\n",
    "from sklearn.model_selection import train_test_split\n",
    "from sklearn.metrics import mean_absolute_error"
   ]
  },
  {
   "cell_type": "code",
   "execution_count": 2,
   "metadata": {},
   "outputs": [
    {
     "data": {
      "text/html": [
       "<div>\n",
       "<style scoped>\n",
       "    .dataframe tbody tr th:only-of-type {\n",
       "        vertical-align: middle;\n",
       "    }\n",
       "\n",
       "    .dataframe tbody tr th {\n",
       "        vertical-align: top;\n",
       "    }\n",
       "\n",
       "    .dataframe thead th {\n",
       "        text-align: right;\n",
       "    }\n",
       "</style>\n",
       "<table border=\"1\" class=\"dataframe\">\n",
       "  <thead>\n",
       "    <tr style=\"text-align: right;\">\n",
       "      <th></th>\n",
       "      <th>sponsor_id</th>\n",
       "      <th>creator_id</th>\n",
       "      <th>rating</th>\n",
       "    </tr>\n",
       "  </thead>\n",
       "  <tbody>\n",
       "    <tr>\n",
       "      <th>0</th>\n",
       "      <td>50156.0</td>\n",
       "      <td>400825.0</td>\n",
       "      <td>1276225.2</td>\n",
       "    </tr>\n",
       "    <tr>\n",
       "      <th>1</th>\n",
       "      <td>50156.0</td>\n",
       "      <td>231857.0</td>\n",
       "      <td>1497851.4</td>\n",
       "    </tr>\n",
       "    <tr>\n",
       "      <th>2</th>\n",
       "      <td>50156.0</td>\n",
       "      <td>264256.0</td>\n",
       "      <td>1289604.5</td>\n",
       "    </tr>\n",
       "    <tr>\n",
       "      <th>3</th>\n",
       "      <td>50156.0</td>\n",
       "      <td>240004.0</td>\n",
       "      <td>1831236.2</td>\n",
       "    </tr>\n",
       "    <tr>\n",
       "      <th>4</th>\n",
       "      <td>50156.0</td>\n",
       "      <td>518681.0</td>\n",
       "      <td>1641429.0</td>\n",
       "    </tr>\n",
       "  </tbody>\n",
       "</table>\n",
       "</div>"
      ],
      "text/plain": [
       "   sponsor_id  creator_id     rating\n",
       "0     50156.0    400825.0  1276225.2\n",
       "1     50156.0    231857.0  1497851.4\n",
       "2     50156.0    264256.0  1289604.5\n",
       "3     50156.0    240004.0  1831236.2\n",
       "4     50156.0    518681.0  1641429.0"
      ]
     },
     "execution_count": 2,
     "metadata": {},
     "output_type": "execute_result"
    }
   ],
   "source": [
    "ratings=pd.read_csv('Final_ratings.csv')\n",
    "ratings.head()"
   ]
  },
  {
   "cell_type": "code",
   "execution_count": 3,
   "metadata": {},
   "outputs": [],
   "source": [
    "def recommend(creator_id,attribute):\n",
    "    suggestions=[]\n",
    "    uim=ratings.pivot_table(index='creator_id',columns='sponsor_id',values=attribute)\n",
    "    uim.fillna(0,inplace=True)\n",
    "    sim_score=cosine_similarity(uim)\n",
    "    index=np.where(uim.index==creator_id)[0][0]\n",
    "    sim_item=sorted(list(enumerate(sim_score[index])),key=lambda x:x[1],reverse=True)[1:6]\n",
    "    for i in sim_item:\n",
    "        suggestions.append(uim.index[i[0]])\n",
    "    return suggestions,sim_score"
   ]
  },
  {
   "cell_type": "code",
   "execution_count": 4,
   "metadata": {},
   "outputs": [],
   "source": [
    "def output(creator_id, k):\n",
    "    df = pd.DataFrame()\n",
    "    x, s = recommend(creator_id, k)\n",
    "    print(\"Recommendations:\", x)\n",
    "    # df = df.append({'Id': creator_id, '1': x[0], '2': x[1], '3': x[2], '4': x[3], '5': x[4]}, ignore_index=True)\n",
    "    return x\n"
   ]
  },
  {
   "cell_type": "code",
   "execution_count": 9,
   "metadata": {},
   "outputs": [
    {
     "name": "stdout",
     "output_type": "stream",
     "text": [
      "Recommendations: [780526.0, 280976.0, 594268.0, 206644.0, 250698.0]\n"
     ]
    }
   ],
   "source": [
    "recommended=output(341328.0,'rating')"
   ]
  },
  {
   "cell_type": "code",
   "execution_count": 8,
   "metadata": {},
   "outputs": [
    {
     "data": {
      "text/plain": [
       "[594268.0, 206644.0, 169542.0, 341328.0, 780526.0]"
      ]
     },
     "execution_count": 8,
     "metadata": {},
     "output_type": "execute_result"
    }
   ],
   "source": [
    "recommended"
   ]
  },
  {
   "cell_type": "code",
   "execution_count": null,
   "metadata": {},
   "outputs": [],
   "source": []
  },
  {
   "cell_type": "code",
   "execution_count": null,
   "metadata": {},
   "outputs": [],
   "source": []
  },
  {
   "cell_type": "code",
   "execution_count": null,
   "metadata": {},
   "outputs": [],
   "source": []
  },
  {
   "cell_type": "code",
   "execution_count": null,
   "metadata": {},
   "outputs": [],
   "source": []
  },
  {
   "cell_type": "code",
   "execution_count": null,
   "metadata": {},
   "outputs": [],
   "source": []
  }
 ],
 "metadata": {
  "kernelspec": {
   "display_name": "base",
   "language": "python",
   "name": "python3"
  },
  "language_info": {
   "codemirror_mode": {
    "name": "ipython",
    "version": 3
   },
   "file_extension": ".py",
   "mimetype": "text/x-python",
   "name": "python",
   "nbconvert_exporter": "python",
   "pygments_lexer": "ipython3",
   "version": "3.12.0"
  }
 },
 "nbformat": 4,
 "nbformat_minor": 2
}
